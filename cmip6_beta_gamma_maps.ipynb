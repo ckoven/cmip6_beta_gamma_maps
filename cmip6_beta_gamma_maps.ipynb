{
 "cells": [
  {
   "cell_type": "code",
   "execution_count": 1,
   "metadata": {},
   "outputs": [
    {
     "name": "stdout",
     "output_type": "stream",
     "text": [
      "1.6.1\n"
     ]
    },
    {
     "name": "stderr",
     "output_type": "stream",
     "text": [
      "/Users/cdkoven/miniconda2/envs/jupyter/lib/python2.7/site-packages/dask/config.py:168: YAMLLoadWarning: calling yaml.load() without Loader=... is deprecated, as the default Loader is unsafe. Please read https://msg.pyyaml.org/load for full details.\n",
      "  data = yaml.load(f.read()) or {}\n",
      "/Users/cdkoven/miniconda2/envs/jupyter/lib/python2.7/site-packages/distributed/config.py:20: YAMLLoadWarning: calling yaml.load() without Loader=... is deprecated, as the default Loader is unsafe. Please read https://msg.pyyaml.org/load for full details.\n",
      "  defaults = yaml.load(f)\n"
     ]
    }
   ],
   "source": [
    "import numpy as np\n",
    "import sys\n",
    "sys.path.append('./ckplotlib/')\n",
    "import map_funcs\n",
    "from IPython.display import Image\n",
    "#\n",
    "import xarray as xr"
   ]
  },
  {
   "cell_type": "code",
   "execution_count": 2,
   "metadata": {},
   "outputs": [],
   "source": [
    "models_list = (\n",
    "    'CanESM5',\n",
    "    'CESM2',\n",
    "    'CNRM-ESM2',\n",
    "    'GISS-E2-1-G'\n",
    "    )\n",
    "\n",
    "exps_list = ('piControl','1pctco2-bgc','1pctco2')\n",
    "\n",
    "vars_list = ('tas','fgco2','netAtmosLandCO2Flux')\n",
    "\n",
    "nmodels = len(models_list)\n",
    "nvars = len(vars_list)\n",
    "nexps = len(exps_list)\n",
    "\n",
    "file_master_list_dynamics = [[[[] for i in range(nexps )] for j in range(nvars)] for k in range(nmodels)]\n",
    "### index this file as [model_i][var_i][exp_i]"
   ]
  },
  {
   "cell_type": "code",
   "execution_count": 3,
   "metadata": {},
   "outputs": [],
   "source": [
    "### load all the files for CESM2\n",
    "\n",
    "model_i = models_list.index('CESM2')\n",
    "\n",
    "file_master_list_dynamics[model_i][vars_list.index('tas')][exps_list.index('piControl')] = [\n",
    "    'tas_Amon_CESM2_piControl_r1i1p1f1_gn_050001-059912.nc',\n",
    "    'tas_Amon_CESM2_piControl_r1i1p1f1_gn_060001-069912.nc'\n",
    "]\n",
    "\n",
    "file_master_list_dynamics[model_i][vars_list.index('tas')][exps_list.index('1pctco2-bgc')] = [\n",
    "    'tas_Amon_CESM2_1pctCO2-bgc_r1i1p1f1_gn_000101-005012.nc',\n",
    "    'tas_Amon_CESM2_1pctCO2-bgc_r1i1p1f1_gn_005101-010012.nc',\n",
    "    'tas_Amon_CESM2_1pctCO2-bgc_r1i1p1f1_gn_010101-015012.nc'\n",
    "]\n",
    "\n",
    "file_master_list_dynamics[model_i][vars_list.index('tas')][exps_list.index('1pctco2')] = [\n",
    "    'tas_Amon_CESM2_1pctCO2_r1i1p1f1_gn_000101-005012.nc',\n",
    "    'tas_Amon_CESM2_1pctCO2_r1i1p1f1_gn_005101-010012.nc',\n",
    "    'tas_Amon_CESM2_1pctCO2_r1i1p1f1_gn_010101-015012.nc'\n",
    "]\n",
    "\n",
    "file_master_list_dynamics[model_i][vars_list.index('netAtmosLandCO2Flux')][exps_list.index('piControl')] = [\n",
    "    'netAtmosLandCO2Flux_Emon_CESM2_piControl_r1i1p1f1_gn_050001-059912.nc',\n",
    "    'netAtmosLandCO2Flux_Emon_CESM2_piControl_r1i1p1f1_gn_060001-069912.nc'\n",
    "]\n",
    "\n",
    "file_master_list_dynamics[model_i][vars_list.index('netAtmosLandCO2Flux')][exps_list.index('1pctco2-bgc')] = [\n",
    "    'netAtmosLandCO2Flux_Emon_CESM2_1pctCO2-bgc_r1i1p1f1_gn_000101-005012.nc',\n",
    "    'netAtmosLandCO2Flux_Emon_CESM2_1pctCO2-bgc_r1i1p1f1_gn_005101-010012.nc',\n",
    "    'netAtmosLandCO2Flux_Emon_CESM2_1pctCO2-bgc_r1i1p1f1_gn_010101-015012.nc'\n",
    "]\n",
    "\n",
    "file_master_list_dynamics[model_i][vars_list.index('netAtmosLandCO2Flux')][exps_list.index('1pctco2')] = [\n",
    "    'netAtmosLandCO2Flux_Emon_CESM2_1pctCO2_r1i1p1f1_gn_000101-005012.nc',\n",
    "    'netAtmosLandCO2Flux_Emon_CESM2_1pctCO2_r1i1p1f1_gn_005101-010012.nc',\n",
    "    'netAtmosLandCO2Flux_Emon_CESM2_1pctCO2_r1i1p1f1_gn_010101-015012.nc'\n",
    "]\n",
    "\n",
    "file_master_list_dynamics[model_i][vars_list.index('fgco2')][exps_list.index('piControl')] = [\n",
    "    'fgco2_Omon_CESM2_piControl_r1i1p1f1_gn_050001-059912.nc',\n",
    "    'fgco2_Omon_CESM2_piControl_r1i1p1f1_gn_060001-069912.nc'\n",
    "]\n",
    "\n",
    "file_master_list_dynamics[model_i][vars_list.index('fgco2')][exps_list.index('1pctco2-bgc')] = [\n",
    "    'fgco2_Omon_CESM2_1pctCO2-bgc_r1i1p1f1_gn_000101-005012.nc',\n",
    "    'fgco2_Omon_CESM2_1pctCO2-bgc_r1i1p1f1_gn_005101-010012.nc',\n",
    "    'fgco2_Omon_CESM2_1pctCO2-bgc_r1i1p1f1_gn_010101-015012.nc'\n",
    "]\n",
    "\n",
    "file_master_list_dynamics[model_i][vars_list.index('fgco2')][exps_list.index('1pctco2')] = [\n",
    "    'fgco2_Omon_CESM2_1pctCO2_r1i1p1f1_gn_000101-005012.nc',\n",
    "    'fgco2_Omon_CESM2_1pctCO2_r1i1p1f1_gn_005101-010012.nc',\n",
    "    'fgco2_Omon_CESM2_1pctCO2_r1i1p1f1_gn_010101-015012.nc'\n",
    "]"
   ]
  },
  {
   "cell_type": "code",
   "execution_count": 4,
   "metadata": {},
   "outputs": [
    {
     "data": {
      "text/plain": [
       "[[[[], [], []], [[], [], []], [[], [], []]],\n",
       " [[['tas_Amon_CESM2_piControl_r1i1p1f1_gn_050001-059912.nc',\n",
       "    'tas_Amon_CESM2_piControl_r1i1p1f1_gn_060001-069912.nc'],\n",
       "   ['tas_Amon_CESM2_1pctCO2-bgc_r1i1p1f1_gn_000101-005012.nc',\n",
       "    'tas_Amon_CESM2_1pctCO2-bgc_r1i1p1f1_gn_005101-010012.nc',\n",
       "    'tas_Amon_CESM2_1pctCO2-bgc_r1i1p1f1_gn_010101-015012.nc'],\n",
       "   ['tas_Amon_CESM2_1pctCO2_r1i1p1f1_gn_000101-005012.nc',\n",
       "    'tas_Amon_CESM2_1pctCO2_r1i1p1f1_gn_005101-010012.nc',\n",
       "    'tas_Amon_CESM2_1pctCO2_r1i1p1f1_gn_010101-015012.nc']],\n",
       "  [['fgco2_Omon_CESM2_piControl_r1i1p1f1_gn_050001-059912.nc',\n",
       "    'fgco2_Omon_CESM2_piControl_r1i1p1f1_gn_060001-069912.nc'],\n",
       "   ['fgco2_Omon_CESM2_1pctCO2-bgc_r1i1p1f1_gn_000101-005012.nc',\n",
       "    'fgco2_Omon_CESM2_1pctCO2-bgc_r1i1p1f1_gn_005101-010012.nc',\n",
       "    'fgco2_Omon_CESM2_1pctCO2-bgc_r1i1p1f1_gn_010101-015012.nc'],\n",
       "   ['fgco2_Omon_CESM2_1pctCO2_r1i1p1f1_gn_000101-005012.nc',\n",
       "    'fgco2_Omon_CESM2_1pctCO2_r1i1p1f1_gn_005101-010012.nc',\n",
       "    'fgco2_Omon_CESM2_1pctCO2_r1i1p1f1_gn_010101-015012.nc']],\n",
       "  [['netAtmosLandCO2Flux_Emon_CESM2_piControl_r1i1p1f1_gn_050001-059912.nc',\n",
       "    'netAtmosLandCO2Flux_Emon_CESM2_piControl_r1i1p1f1_gn_060001-069912.nc'],\n",
       "   ['netAtmosLandCO2Flux_Emon_CESM2_1pctCO2-bgc_r1i1p1f1_gn_000101-005012.nc',\n",
       "    'netAtmosLandCO2Flux_Emon_CESM2_1pctCO2-bgc_r1i1p1f1_gn_005101-010012.nc',\n",
       "    'netAtmosLandCO2Flux_Emon_CESM2_1pctCO2-bgc_r1i1p1f1_gn_010101-015012.nc'],\n",
       "   ['netAtmosLandCO2Flux_Emon_CESM2_1pctCO2_r1i1p1f1_gn_000101-005012.nc',\n",
       "    'netAtmosLandCO2Flux_Emon_CESM2_1pctCO2_r1i1p1f1_gn_005101-010012.nc',\n",
       "    'netAtmosLandCO2Flux_Emon_CESM2_1pctCO2_r1i1p1f1_gn_010101-015012.nc']]],\n",
       " [[[], [], []], [[], [], []], [[], [], []]],\n",
       " [[[], [], []], [[], [], []], [[], [], []]]]"
      ]
     },
     "execution_count": 4,
     "metadata": {},
     "output_type": "execute_result"
    }
   ],
   "source": [
    "file_master_list_dynamics"
   ]
  },
  {
   "cell_type": "code",
   "execution_count": 17,
   "metadata": {},
   "outputs": [
    {
     "data": {
      "text/plain": [
       "0"
      ]
     },
     "execution_count": 17,
     "metadata": {},
     "output_type": "execute_result"
    }
   ],
   "source": [
    "exps_list.index('piControl')"
   ]
  },
  {
   "cell_type": "code",
   "execution_count": null,
   "metadata": {},
   "outputs": [],
   "source": []
  }
 ],
 "metadata": {
  "kernelspec": {
   "display_name": "Python 2",
   "language": "python",
   "name": "python2"
  },
  "language_info": {
   "codemirror_mode": {
    "name": "ipython",
    "version": 2
   },
   "file_extension": ".py",
   "mimetype": "text/x-python",
   "name": "python",
   "nbconvert_exporter": "python",
   "pygments_lexer": "ipython2",
   "version": "2.7.15"
  }
 },
 "nbformat": 4,
 "nbformat_minor": 2
}
